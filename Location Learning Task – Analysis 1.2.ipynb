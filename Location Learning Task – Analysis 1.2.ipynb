{
 "cells": [
  {
   "cell_type": "markdown",
   "id": "9b23566f",
   "metadata": {},
   "source": [
    "# Location Learning Task Analysis"
   ]
  },
  {
   "cell_type": "markdown",
   "id": "1059d823",
   "metadata": {},
   "source": [
    "## Overview"
   ]
  },
  {
   "cell_type": "markdown",
   "id": "e5a86e79",
   "metadata": {},
   "source": []
  },
  {
   "cell_type": "markdown",
   "id": "70867934",
   "metadata": {},
   "source": [
    "type:\n",
    "- trial_recall: látta-e korábban a képet --> correct_recall: jól válaszolt-e\n",
    "- trial_position: hol látta --> correct_position: jól válaszolt-e"
   ]
  },
  {
   "cell_type": "markdown",
   "id": "1b198e3e",
   "metadata": {},
   "source": [
    "# 1. step: Prerequisites"
   ]
  },
  {
   "cell_type": "markdown",
   "id": "268e562d",
   "metadata": {},
   "source": [
    "## 1.1 Filename conversation steps"
   ]
  },
  {
   "cell_type": "markdown",
   "id": "0f79952e",
   "metadata": {},
   "source": [
    "1. Download the latest dataset from HCCL drive (HCCL/A_Studies/TerKepEsz/LongTRK/Data/Wave_1/Raw_Online_Tests/CognitionRun\n",
    "2. Unzip the file\n",
    "3. Rename files: LLT_Online_(Participant_ID).csv"
   ]
  },
  {
   "cell_type": "markdown",
   "id": "76711942",
   "metadata": {},
   "source": [
    "When rename the files please consider:\n",
    "- csv files contains Participant_ID as participantID\n",
    "- pay attention to 0 (zero) and O (letter) in the participantID (letter O is the correct, it means old)\n",
    "- check participantID in the longTerKepEsz_Participants file (location: HCCL/A_Studies/TerKepEsz/LongTRK/Data)\n",
    "- clear files which not contain participantID (participant did not finish the task)\n",
    "- more than one file from the same participant should eliminate, use the first in time"
   ]
  },
  {
   "cell_type": "markdown",
   "id": "5af542e5",
   "metadata": {},
   "source": [
    "Further steps: write script to do the steps above"
   ]
  },
  {
   "cell_type": "markdown",
   "id": "c055b112",
   "metadata": {},
   "source": [
    "## 1.2 Import libraries"
   ]
  },
  {
   "cell_type": "code",
   "execution_count": 11,
   "id": "6cf3f662",
   "metadata": {},
   "outputs": [],
   "source": [
    "import pandas as pd\n",
    "import numpy as np\n",
    "import os\n",
    "import re"
   ]
  },
  {
   "cell_type": "markdown",
   "id": "34a09721",
   "metadata": {},
   "source": [
    "## 1.3 Set constans"
   ]
  },
  {
   "cell_type": "markdown",
   "id": "8f57cd4d",
   "metadata": {},
   "source": [
    "Set the location directory of csv files."
   ]
  },
  {
   "cell_type": "code",
   "execution_count": 12,
   "id": "ceeca65e",
   "metadata": {},
   "outputs": [],
   "source": [
    "dir=\"old-hcccl-location-learning-task-archive_2022_04_08/\""
   ]
  },
  {
   "cell_type": "markdown",
   "id": "8b9af60b",
   "metadata": {},
   "source": [
    "# 2. step: Data Capture"
   ]
  },
  {
   "cell_type": "markdown",
   "id": "ffa1575a",
   "metadata": {},
   "source": [
    "## 2.1 Reading csv files list from the directory"
   ]
  },
  {
   "cell_type": "code",
   "execution_count": 13,
   "id": "4cdea8d0",
   "metadata": {
    "scrolled": true
   },
   "outputs": [
    {
     "name": "stdout",
     "output_type": "stream",
     "text": [
      "['LLT_Online_585O1174F_01.csv', 'LLT_Online_5541112F.csv', 'LLT_Online_585O1174F_02.csv', 'LLT_Online_597O1198F.csv', 'LLT_Online_625O1254F.csv', 'LLT_Online_489O982M.csv', 'LLT_Online_658O1320F.csv', 'LLT_Online_539O1082M..csv', 'LLT_Online_637O1278F.csv', 'LLT_Online_509O122F.csv', 'LLT_Online_01O6F.csv', 'LLT_Online_611O1226F_02.csv', 'LLT_Online_592O1188F.csv', 'LLT_Online_35O73M.csv', 'LLT_Online_611O1226F_01.csv', 'LLT_Online_528O1060F_01.csv', 'LLT_Online_614O1232F_02.csv', 'LLT_Online_528O1060F_02.csv', 'LLT_Online_535O1074F.csv', 'LLT_Online_614O1232F_01.csv', 'LLT_Online_606O1216F_01.csv', 'LLT_Online_638O1280F.csv', 'LLT_Online_521O1046M_01.csv', 'LLT_Online_526O1056M.csv', 'LLT_Online_606O1216F_02.csv', 'LLT_Online_6321268M.csv', 'LLT_Online_39-297.csv', 'LLT_Online_521O1046M_02.csv', 'LLT_Online_606O1216F_03.csv', 'LLT_Online_657O1318M.csv', 'LLT_Online_490O984M.csv', 'LLT_Online_566Y1136M_03.csv', 'LLT_Online_566Y1136M_02.csv', 'LLT_Online_667O1338F.csv', 'LLT_Online_5871178F.csv', 'LLT_Online_566Y1136M_01.csv']\n",
      "36\n"
     ]
    }
   ],
   "source": [
    "dir_list = list(filter(lambda name: \".csv\" in name, os.listdir(dir)))\n",
    "\n",
    "print(dir_list)\n",
    "print(len(dir_list))"
   ]
  },
  {
   "cell_type": "markdown",
   "id": "4dd611f6",
   "metadata": {},
   "source": [
    "## 2.2 Data cleaning functions"
   ]
  },
  {
   "cell_type": "markdown",
   "id": "ed61608f",
   "metadata": {},
   "source": [
    "Only trials are needed, practice steps should be cleared."
   ]
  },
  {
   "cell_type": "code",
   "execution_count": 14,
   "id": "c73ba1b7",
   "metadata": {},
   "outputs": [],
   "source": [
    "def dataframe_filter(df):\n",
    "    regex = \"List[0-9]*/\"\n",
    "    \n",
    "    # Eliminating NaN value\n",
    "    df[\"image\"].fillna(\"0\", inplace = True)\n",
    "    \n",
    "    return df[df[\"image\"].str.match(regex)]"
   ]
  },
  {
   "cell_type": "markdown",
   "id": "d26249d0",
   "metadata": {},
   "source": [
    "Depending on the parameter list, it counts the number of true and false values within a given column. "
   ]
  },
  {
   "cell_type": "code",
   "execution_count": 15,
   "id": "ef0f6c4d",
   "metadata": {},
   "outputs": [],
   "source": [
    "def result(df,column,true_false):\n",
    "    \n",
    "    return df.loc[df[column] == true_false, column].shape[0]"
   ]
  },
  {
   "cell_type": "markdown",
   "id": "c33e4bb3",
   "metadata": {},
   "source": [
    "It should be verified that the participant has completed the entire task"
   ]
  },
  {
   "cell_type": "code",
   "execution_count": 16,
   "id": "dec86d4a",
   "metadata": {},
   "outputs": [],
   "source": [
    "def file_valid(filename):\n",
    "    path = dir + filename\n",
    "    dataframe_raw = pd.read_csv(path)\n",
    "    #print(dataframe.info())\n",
    "    \n",
    "    if \"stimulus\" in dataframe_raw.columns:\n",
    "        return True\n",
    "            \n",
    "    else:\n",
    "        print(filename + \" – Participant did not finish the task\")\n",
    "        return False"
   ]
  },
  {
   "cell_type": "markdown",
   "id": "2e390bb8",
   "metadata": {},
   "source": [
    "If the relevant column is boolean instead of string, then map should be used"
   ]
  },
  {
   "cell_type": "code",
   "execution_count": 17,
   "id": "90bbed70",
   "metadata": {},
   "outputs": [],
   "source": [
    "def file_clean(filename,column):\n",
    "    path = dir + filename\n",
    "    dataframe_raw = pd.read_csv(path)\n",
    "    #print(dataframe.info())\n",
    "        \n",
    "    dataframe = dataframe_filter(dataframe_raw)\n",
    "                    \n",
    "    if result(dataframe,column,True) == 0:\n",
    "        dataframe[column] = dataframe[column].map({'true': True, 'false': False})\n",
    "            \n",
    "    return dataframe\n"
   ]
  },
  {
   "cell_type": "markdown",
   "id": "18d7682a",
   "metadata": {},
   "source": [
    "# 3. step: General Statistics"
   ]
  },
  {
   "cell_type": "markdown",
   "id": "9af66993",
   "metadata": {},
   "source": [
    "General statistics values."
   ]
  },
  {
   "cell_type": "code",
   "execution_count": 20,
   "id": "729545a6",
   "metadata": {},
   "outputs": [],
   "source": [
    "def statistic(dir_list,column,true_false):\n",
    "    count_elements = []\n",
    "    statistic = []\n",
    "    index = [\"Number of Elements\", \"Mean\", \"Std\", \"Min\", \"Max\"]\n",
    "    error = 0\n",
    "    \n",
    "    for filename in dir_list:\n",
    "        print(filename)\n",
    "        if file_valid(filename):\n",
    "        \n",
    "            dataframe = file_clean(filename,column)\n",
    "            count_elements.append(result(dataframe,column,true_false))\n",
    "        else:\n",
    "            error = error + 1\n",
    "        \n",
    "    statistic.append(len(count_elements))\n",
    "    statistic.append(np.mean(count_elements))\n",
    "    statistic.append(np.std(count_elements))\n",
    "    statistic.append(np.min(count_elements))\n",
    "    statistic.append(np.max(count_elements))\n",
    "    \n",
    "    print(\"Number of unvalid files: \" + str(error))\n",
    "    \n",
    "    return pd.Series(statistic, index)\n",
    "        "
   ]
  },
  {
   "cell_type": "markdown",
   "id": "8c5d588d",
   "metadata": {},
   "source": [
    "## 3.1 Participant who remember well that (s)he had seen the picture"
   ]
  },
  {
   "cell_type": "code",
   "execution_count": 21,
   "id": "47ef9327",
   "metadata": {},
   "outputs": [
    {
     "name": "stdout",
     "output_type": "stream",
     "text": [
      "LLT_Online_585O1174F_01.csv\n"
     ]
    },
    {
     "name": "stderr",
     "output_type": "stream",
     "text": [
      "/Library/Frameworks/Python.framework/Versions/3.7/lib/python3.7/site-packages/ipykernel_launcher.py:9: SettingWithCopyWarning: \n",
      "A value is trying to be set on a copy of a slice from a DataFrame.\n",
      "Try using .loc[row_indexer,col_indexer] = value instead\n",
      "\n",
      "See the caveats in the documentation: https://pandas.pydata.org/pandas-docs/stable/user_guide/indexing.html#returning-a-view-versus-a-copy\n",
      "  if __name__ == \"__main__\":\n"
     ]
    },
    {
     "name": "stdout",
     "output_type": "stream",
     "text": [
      "LLT_Online_5541112F.csv\n",
      "LLT_Online_585O1174F_02.csv\n",
      "LLT_Online_597O1198F.csv\n",
      "LLT_Online_625O1254F.csv\n",
      "LLT_Online_625O1254F.csv – Participant did not finish the task\n",
      "LLT_Online_489O982M.csv\n",
      "LLT_Online_658O1320F.csv\n",
      "LLT_Online_539O1082M..csv\n",
      "LLT_Online_637O1278F.csv\n",
      "LLT_Online_509O122F.csv\n",
      "LLT_Online_01O6F.csv\n",
      "LLT_Online_611O1226F_02.csv\n",
      "LLT_Online_611O1226F_02.csv – Participant did not finish the task\n",
      "LLT_Online_592O1188F.csv\n",
      "LLT_Online_35O73M.csv\n",
      "LLT_Online_611O1226F_01.csv\n",
      "LLT_Online_528O1060F_01.csv\n",
      "LLT_Online_614O1232F_02.csv\n",
      "LLT_Online_614O1232F_02.csv – Participant did not finish the task\n",
      "LLT_Online_528O1060F_02.csv\n",
      "LLT_Online_535O1074F.csv\n",
      "LLT_Online_614O1232F_01.csv\n",
      "LLT_Online_606O1216F_01.csv\n",
      "LLT_Online_638O1280F.csv\n",
      "LLT_Online_521O1046M_01.csv\n",
      "LLT_Online_526O1056M.csv\n",
      "LLT_Online_606O1216F_02.csv\n",
      "LLT_Online_6321268M.csv\n",
      "LLT_Online_39-297.csv\n",
      "LLT_Online_521O1046M_02.csv\n",
      "LLT_Online_521O1046M_02.csv – Participant did not finish the task\n",
      "LLT_Online_606O1216F_03.csv\n",
      "LLT_Online_657O1318M.csv\n",
      "LLT_Online_490O984M.csv\n",
      "LLT_Online_566Y1136M_03.csv\n",
      "LLT_Online_566Y1136M_03.csv – Participant did not finish the task\n",
      "LLT_Online_566Y1136M_02.csv\n",
      "LLT_Online_667O1338F.csv\n",
      "LLT_Online_5871178F.csv\n",
      "LLT_Online_566Y1136M_01.csv\n",
      "LLT_Online_566Y1136M_01.csv – Participant did not finish the task\n",
      "Number of unvalid files: 6\n"
     ]
    },
    {
     "data": {
      "text/plain": [
       "Number of Elements    30.000000\n",
       "Mean                  26.366667\n",
       "Std                    5.281940\n",
       "Min                    0.000000\n",
       "Max                   30.000000\n",
       "dtype: float64"
      ]
     },
     "execution_count": 21,
     "metadata": {},
     "output_type": "execute_result"
    }
   ],
   "source": [
    "statistic(dir_list,'correct_recall',True)"
   ]
  },
  {
   "cell_type": "markdown",
   "id": "be2c0bb2",
   "metadata": {},
   "source": [
    "## Old participants who remember well that (s)he had seen the picture"
   ]
  },
  {
   "cell_type": "code",
   "execution_count": 23,
   "id": "7f775010",
   "metadata": {},
   "outputs": [
    {
     "name": "stdout",
     "output_type": "stream",
     "text": [
      "LLT_Online_585O1174F_01.csv\n",
      "LLT_Online_585O1174F_02.csv\n",
      "LLT_Online_597O1198F.csv\n",
      "LLT_Online_625O1254F.csv\n",
      "LLT_Online_625O1254F.csv – Participant did not finish the task\n",
      "LLT_Online_489O982M.csv\n",
      "LLT_Online_658O1320F.csv\n",
      "LLT_Online_539O1082M..csv\n",
      "LLT_Online_637O1278F.csv\n",
      "LLT_Online_509O122F.csv\n",
      "LLT_Online_01O6F.csv\n",
      "LLT_Online_611O1226F_02.csv\n",
      "LLT_Online_611O1226F_02.csv – Participant did not finish the task\n",
      "LLT_Online_592O1188F.csv\n",
      "LLT_Online_35O73M.csv\n",
      "LLT_Online_611O1226F_01.csv\n",
      "LLT_Online_528O1060F_01.csv\n",
      "LLT_Online_614O1232F_02.csv\n",
      "LLT_Online_614O1232F_02.csv – Participant did not finish the task\n",
      "LLT_Online_528O1060F_02.csv\n",
      "LLT_Online_535O1074F.csv\n",
      "LLT_Online_614O1232F_01.csv\n",
      "LLT_Online_606O1216F_01.csv\n",
      "LLT_Online_638O1280F.csv\n"
     ]
    },
    {
     "name": "stderr",
     "output_type": "stream",
     "text": [
      "/Library/Frameworks/Python.framework/Versions/3.7/lib/python3.7/site-packages/ipykernel_launcher.py:9: SettingWithCopyWarning: \n",
      "A value is trying to be set on a copy of a slice from a DataFrame.\n",
      "Try using .loc[row_indexer,col_indexer] = value instead\n",
      "\n",
      "See the caveats in the documentation: https://pandas.pydata.org/pandas-docs/stable/user_guide/indexing.html#returning-a-view-versus-a-copy\n",
      "  if __name__ == \"__main__\":\n"
     ]
    },
    {
     "name": "stdout",
     "output_type": "stream",
     "text": [
      "LLT_Online_521O1046M_01.csv\n",
      "LLT_Online_526O1056M.csv\n",
      "LLT_Online_606O1216F_02.csv\n",
      "LLT_Online_521O1046M_02.csv\n",
      "LLT_Online_521O1046M_02.csv – Participant did not finish the task\n",
      "LLT_Online_606O1216F_03.csv\n",
      "LLT_Online_657O1318M.csv\n",
      "LLT_Online_490O984M.csv\n",
      "LLT_Online_667O1338F.csv\n",
      "Number of unvalid files: 4\n",
      "Number of Elements    25.000000\n",
      "Mean                  25.960000\n",
      "Std                    5.688444\n",
      "Min                    0.000000\n",
      "Max                   30.000000\n",
      "dtype: float64\n"
     ]
    }
   ],
   "source": [
    "r = re.compile(\"LLT_Online_[0-9]*O[0-9]*.\")\n",
    "dir_list_old = list(filter(r.match, dir_list))\n",
    "\n",
    "#print(dir_list_old)\n",
    "print(statistic(dir_list_old,'correct_recall',True))"
   ]
  },
  {
   "cell_type": "markdown",
   "id": "71bba2eb",
   "metadata": {},
   "source": [
    "## Young participants who remember well that (s)he had seen the picture"
   ]
  },
  {
   "cell_type": "code",
   "execution_count": 24,
   "id": "93c654f7",
   "metadata": {},
   "outputs": [
    {
     "name": "stdout",
     "output_type": "stream",
     "text": [
      "LLT_Online_566Y1136M_03.csv\n",
      "LLT_Online_566Y1136M_03.csv – Participant did not finish the task\n",
      "LLT_Online_566Y1136M_02.csv\n",
      "LLT_Online_566Y1136M_01.csv\n",
      "LLT_Online_566Y1136M_01.csv – Participant did not finish the task\n",
      "Number of unvalid files: 2\n",
      "Number of Elements     1.0\n",
      "Mean                  29.0\n",
      "Std                    0.0\n",
      "Min                   29.0\n",
      "Max                   29.0\n",
      "dtype: float64\n"
     ]
    },
    {
     "name": "stderr",
     "output_type": "stream",
     "text": [
      "/Library/Frameworks/Python.framework/Versions/3.7/lib/python3.7/site-packages/ipykernel_launcher.py:9: SettingWithCopyWarning: \n",
      "A value is trying to be set on a copy of a slice from a DataFrame.\n",
      "Try using .loc[row_indexer,col_indexer] = value instead\n",
      "\n",
      "See the caveats in the documentation: https://pandas.pydata.org/pandas-docs/stable/user_guide/indexing.html#returning-a-view-versus-a-copy\n",
      "  if __name__ == \"__main__\":\n"
     ]
    }
   ],
   "source": [
    "r = re.compile(\"LLT_Online_[0-9]*Y[0-9]*.\")\n",
    "dir_list_young = list(filter(r.match, dir_list))\n",
    "\n",
    "#print(dir_list_young)\n",
    "print(statistic(dir_list_young,'correct_recall',True))"
   ]
  },
  {
   "cell_type": "markdown",
   "id": "c96d9aae",
   "metadata": {},
   "source": []
  }
 ],
 "metadata": {
  "kernelspec": {
   "display_name": "Python 3 (ipykernel)",
   "language": "python",
   "name": "python3"
  },
  "language_info": {
   "codemirror_mode": {
    "name": "ipython",
    "version": 3
   },
   "file_extension": ".py",
   "mimetype": "text/x-python",
   "name": "python",
   "nbconvert_exporter": "python",
   "pygments_lexer": "ipython3",
   "version": "3.7.4"
  }
 },
 "nbformat": 4,
 "nbformat_minor": 5
}
